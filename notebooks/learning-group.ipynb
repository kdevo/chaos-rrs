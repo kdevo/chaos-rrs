{
 "cells": [
  {
   "cell_type": "markdown",
   "metadata": {},
   "source": [
    "# CHAOS: Learning Group Scenario\n",
    "\n",
    "## Starting up\n",
    "\n",
    "The following block is just a common boilerplate to ensure the modules are loaded properly.\n",
    "Execute the code cells step-by-step by clicking on the \"play\" button."
   ]
  },
  {
   "cell_type": "code",
   "execution_count": null,
   "metadata": {},
   "outputs": [],
   "source": [
    "import os\n",
    "import sys\n",
    "\n",
    "root = os.path.abspath(os.path.join('..'))\n",
    "if root not in sys.path:\n",
    "    sys.path.append(root)\n",
    "    print(\"Added chaos root to syspath\")\n",
    "    os.chdir(root)\n",
    "    print(\"Changed working directory to project root\")\n",
    "\n",
    "import chaos"
   ]
  },
  {
   "cell_type": "markdown",
   "metadata": {},
   "source": [
    "Here, we import the needed modules for this scenario and set-up logging:"
   ]
  },
  {
   "cell_type": "code",
   "execution_count": null,
   "metadata": {},
   "outputs": [],
   "source": [
    "import logging.config\n",
    "import math\n",
    "\n",
    "import pandas as pd\n",
    "import yaml\n",
    "\n",
    "from chaos.fetch.local import CsvSource\n",
    "from chaos.process.extract.graph import GraphEdgeMapper, GraphPopularityExtractor\n",
    "from chaos.process.pipeline import SequentialDataPipeline\n",
    "from chaos.recommend.evaluate.evaluator import LFMEvaluator\n",
    "from chaos.recommend.predict.predictor import LFMPredictor\n",
    "from chaos.recommend.predict.reciprocal import ReciprocalWrapper, ArithmeticStrategy\n",
    "from chaos.recommend.translator import LFMTranslator\n",
    "from chaos.shared.user import User\n",
    "\n",
    "with open('data/logging.yml') as logging_cfg_file:\n",
    "    logging_cfg = yaml.safe_load(logging_cfg_file)\n",
    "    logging.config.dictConfig(logging_cfg)\n",
    "\n",
    "logger = logging.getLogger(__name__)"
   ]
  },
  {
   "cell_type": "markdown",
   "metadata": {},
   "source": [
    "## The workflow\n",
    "\n",
    "Let's go through the following workflow:\n",
    "\n",
    "![Workflow](img/workflow.png)\n",
    "\n",
    "We skip the first task, since the interactions/features are already prepared for this simple \"learning group\" example.\n",
    "\n",
    "First, let's source the data. For this scenario, we simply load a CSV that located within the project's directory:"
   ]
  },
  {
   "cell_type": "code",
   "execution_count": null,
   "metadata": {},
   "outputs": [],
   "source": [
    "data = CsvSource(CsvSource.RES_ROOT / 'learning-group').source_data()\n",
    "data.user_df # This will show the data frame here"
   ]
  },
  {
   "cell_type": "markdown",
   "metadata": {},
   "source": [
    "Now that we see the profile data of the users, let's have a quick look at the interaction graph:"
   ]
  },
  {
   "cell_type": "code",
   "execution_count": null,
   "metadata": {},
   "outputs": [],
   "source": [
    "data.interaction_graph.draw()\n",
    "data.describe()"
   ]
  },
  {
   "cell_type": "markdown",
   "metadata": {},
   "source": [
    "## Process Data Model\n",
    "\n",
    "As we can see in the graph, there are some interaction edges that have a particular high interaction **accumulated interaction strength**. \n",
    "\n",
    "This might lead to problems when we generate recommendations so that only the nodes with an incoming high strength are recommended.\n",
    "\n",
    "Let's try to change that with the following pipeline:"
   ]
  },
  {
   "cell_type": "code",
   "execution_count": null,
   "metadata": {},
   "outputs": [],
   "source": [
    "pipeline = SequentialDataPipeline([\n",
    "    GraphEdgeMapper(\n",
    "        capacity=lambda e: e.strength,\n",
    "        cost=lambda e: 1 / e.strength\n",
    "    ),\n",
    "    # Map other useful attributes for usage in algorithms:\n",
    "    GraphPopularityExtractor('popularity', quantiles=3, metrics=('eigenvector', 'degree'),\n",
    "                             labels=['low', 'medium', 'high'], add_as_node_attrib=True),\n",
    "    # Discount too edges towards too popular nodes:\n",
    "    GraphEdgeMapper(\n",
    "        strength=lambda e: e.strength - (0.7 * e.strength * e.v.data['degree'])\n",
    "    ),\n",
    "    GraphEdgeMapper(\n",
    "        strength=lambda e: math.log(e.strength)\n",
    "    )\n",
    "])\n",
    "\n",
    "dm = pipeline.execute(data)\n",
    "dm.interaction_graph.draw()"
   ]
  },
  {
   "cell_type": "markdown",
   "metadata": {},
   "source": [
    "Looks better, right?\n",
    "Especially the connections to nodes with \"high\" popularity are now reduced."
   ]
  },
  {
   "cell_type": "code",
   "execution_count": null,
   "metadata": {},
   "outputs": [],
   "source": [
    "dm.user_df.loc[dm.user_df.popularity == 'high']"
   ]
  },
  {
   "cell_type": "markdown",
   "metadata": {},
   "source": [
    "As a small extra, let's build and test the standard reciprocal candidate generator for user \"Kai\":"
   ]
  },
  {
   "cell_type": "code",
   "execution_count": null,
   "metadata": {},
   "outputs": [],
   "source": [
    "from chaos.recommend.candidates import * \n",
    "cg = CandidateGeneratorBuilder.build_reciprocal_default(dm)\n",
    "cg.retrieve_candidates('Kai')"
   ]
  },
  {
   "cell_type": "markdown",
   "metadata": {},
   "source": [
    "Only these users are considered for the recommendation process for this user.\n",
    "They are reciprocally compatible with user \"Kai\" and it works as illustrated in the following sequence diagram:\n",
    "\n",
    "![CG](img/cg.png)\n",
    "\n",
    "Let's continue with the next tasks that are highly related to each other."
   ]
  },
  {
   "cell_type": "markdown",
   "metadata": {},
   "source": [
    "## Translate, train and evaluate\n",
    "\n",
    "In the following, we first construct a translator that can be used to retrieve the interaction matrix in a model-compatible format.\n",
    "\n",
    "Then, we train different `LFMPredictor`s based on different parameters:\n",
    "1. Hybrid model wih course and indicator feature\n",
    "2. Hybrid model with course, popularity (which we previously calculated) and indictor feature\n",
    "3. A pure Collaborative Filtering model with no profile data feature embeddings."
   ]
  },
  {
   "cell_type": "code",
   "execution_count": null,
   "metadata": {},
   "outputs": [],
   "source": [
    "translator = LFMTranslator(dm, [], use_indicator=True)\n",
    "hp = {'learning_rate': 0.003, 'no_components': 32}\n",
    "evaluator = LFMEvaluator(\n",
    "    {\n",
    "        'Hybrid, course with ID': LFMPredictor(LFMTranslator(dm, ['course'], use_indicator=True), **hp),\n",
    "        'Hybrid, course + popularity with ID': LFMPredictor(\n",
    "            LFMTranslator(dm, ['course', 'popularity'], use_indicator=True), **hp\n",
    "        ),\n",
    "        'Collaborative Filtering only': LFMPredictor(translator, **hp),\n",
    "    }, translator.interaction_matrix, test_split=0.3\n",
    ")\n",
    "evaluator.run_all(epochs=range(0, 144, 4))"
   ]
  },
  {
   "cell_type": "markdown",
   "metadata": {},
   "source": [
    "Let's output the chart report to find out which performed best visually and call the `best_of_all` method to confirm our finding:"
   ]
  },
  {
   "cell_type": "code",
   "execution_count": null,
   "metadata": {},
   "outputs": [],
   "source": [
    "evaluator.create_report()"
   ]
  },
  {
   "cell_type": "code",
   "execution_count": null,
   "metadata": {},
   "outputs": [],
   "source": [
    "res = evaluator.best_of_all('f1')\n",
    "print(f\"Best predictor for F1: {res.predictor} @ epoch {res.epoch} with {res.value}\")\n",
    "hybrid = evaluator[res.predictor]"
   ]
  },
  {
   "cell_type": "markdown",
   "metadata": {},
   "source": [
    "## Recommend\n",
    "\n",
    "Finally, let's sample some recommendations based on this evaluator.\n",
    "\n",
    "But before, let's build a candidate generator that **filters out users that have already met for studying**:"
   ]
  },
  {
   "cell_type": "code",
   "execution_count": null,
   "metadata": {},
   "outputs": [],
   "source": [
    "cg = (CandidateGeneratorBuilder(DMCandidateRepo(data))\n",
    "               .filter(PreferenceCG).cache().only_reciprocal()\n",
    "               .filter(InteractionCG, include=True, include_new=True)\n",
    "               .filter(StrategicCG, on_unknown_user=DMCandidateRepo(data))\n",
    "               .build())\n"
   ]
  },
  {
   "cell_type": "markdown",
   "metadata": {},
   "source": [
    "Let's re-create the \"Hybrid, course with ID\" predictor with the full spectrum of interactions with the newly created candidate generator:"
   ]
  },
  {
   "cell_type": "code",
   "execution_count": null,
   "metadata": {},
   "outputs": [],
   "source": [
    "predictor = LFMPredictor(LFMTranslator(data, ['course']), candidate_generator=cg)\n",
    "predictor.train(10)"
   ]
  },
  {
   "cell_type": "code",
   "execution_count": null,
   "metadata": {},
   "outputs": [],
   "source": [
    "print(\"Recommended for user Kai\", predictor.predict(\"Kai\")) # known user from ISE\n",
    "print(\"Recommended for user Stefan\", predictor.predict(\"Stefan\")) # known user from MCD\n",
    "print(\"Recommended for user Ivan\", predictor.predict(\"Ivan\")) # known during training, but cold-start user\n",
    "print(\"Recommended for unknown user from MCD\", predictor.predict(User.from_data({'course': \"MCD\"}))) # unknown during training and cold-start user"
   ]
  },
  {
   "cell_type": "markdown",
   "metadata": {},
   "source": [
    "## Done!\n",
    "\n",
    "You might tweak around and change some code blocks or build an entirely knew interaction graph.\n",
    "The stage is yours!"
   ]
  },
  {
   "cell_type": "code",
   "execution_count": null,
   "metadata": {},
   "outputs": [],
   "source": []
  }
 ],
 "metadata": {
  "kernelspec": {
   "display_name": "Python 3",
   "language": "python",
   "name": "python3"
  },
  "language_info": {
   "codemirror_mode": {
    "name": "ipython",
    "version": 3
   },
   "file_extension": ".py",
   "mimetype": "text/x-python",
   "name": "python",
   "nbconvert_exporter": "python",
   "pygments_lexer": "ipython3",
   "version": "3.8.5"
  }
 },
 "nbformat": 4,
 "nbformat_minor": 4
}
